{
 "cells": [
  {
   "cell_type": "code",
   "execution_count": 1,
   "metadata": {},
   "outputs": [],
   "source": [
    "from pytube import YouTube\n",
    "\n",
    "# read urls from a textfile\n",
    "with open(\"YoutubeLinks.txt\", \"r\") as links:\n",
    "    for video in links:\n",
    "        # Create a YouTube object\n",
    "        yt = YouTube(video)\n",
    "        # Get the audio stream\n",
    "        #yt.streams.filter(only_audio=True).first().download('../../Music/Youtube/')\n",
    "        yt.streams.get_audio_only().download('../../Music/Youtube/')"
   ]
  }
 ],
 "metadata": {
  "kernelspec": {
   "display_name": "envDS",
   "language": "python",
   "name": "python3"
  },
  "language_info": {
   "codemirror_mode": {
    "name": "ipython",
    "version": 3
   },
   "file_extension": ".py",
   "mimetype": "text/x-python",
   "name": "python",
   "nbconvert_exporter": "python",
   "pygments_lexer": "ipython3",
   "version": "3.9.13 (main, Aug 25 2022, 18:29:29) \n[Clang 12.0.0 ]"
  },
  "orig_nbformat": 4,
  "vscode": {
   "interpreter": {
    "hash": "870174f0296289a4239be059cab6b8669c98fd2c3506d73c9af4c412fc522f2f"
   }
  }
 },
 "nbformat": 4,
 "nbformat_minor": 2
}
